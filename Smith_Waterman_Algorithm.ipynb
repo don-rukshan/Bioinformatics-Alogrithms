{
  "nbformat": 4,
  "nbformat_minor": 0,
  "metadata": {
    "colab": {
      "name": "Smith Waterman Algorithm.ipynb",
      "provenance": [],
      "collapsed_sections": []
    },
    "kernelspec": {
      "name": "python3",
      "display_name": "Python 3"
    }
  },
  "cells": [
    {
      "cell_type": "markdown",
      "metadata": {
        "id": "Ig4xqZlXIEVA",
        "colab_type": "text"
      },
      "source": [
        "# **AS2016525**\n",
        "M.D.C. RUKSHAN SURIYAARATCHIE"
      ]
    },
    {
      "cell_type": "code",
      "metadata": {
        "id": "yqokQAusH8J7",
        "colab_type": "code",
        "colab": {}
      },
      "source": [
        "import numpy as np\n",
        "seq1='ACATAG'\n",
        "seq2='AATG'"
      ],
      "execution_count": 0,
      "outputs": []
    },
    {
      "cell_type": "code",
      "metadata": {
        "id": "QUuD1R0ZIXXu",
        "colab_type": "code",
        "colab": {}
      },
      "source": [
        "matrix=np.zeros((len(seq1)+1,len(seq2)+1))"
      ],
      "execution_count": 0,
      "outputs": []
    },
    {
      "cell_type": "code",
      "metadata": {
        "id": "kwN27LctIX7W",
        "colab_type": "code",
        "outputId": "afa6e6be-4c3a-4991-dca6-c6bc3ec4f801",
        "colab": {
          "base_uri": "https://localhost:8080/",
          "height": 127
        }
      },
      "source": [
        "s_matrix=np.zeros((len(seq1),len(seq2)))\n",
        "for i in range(len(seq1)):\n",
        "    for j in range(len(seq2)):\n",
        "        if seq1[i]==seq2[j]:\n",
        "            s_matrix[i][j]=1\n",
        "        else:     \n",
        "            s_matrix[i][j]=-1\n",
        "s_matrix"
      ],
      "execution_count": 0,
      "outputs": [
        {
          "output_type": "execute_result",
          "data": {
            "text/plain": [
              "array([[ 1.,  1., -1., -1.],\n",
              "       [-1., -1., -1., -1.],\n",
              "       [ 1.,  1., -1., -1.],\n",
              "       [-1., -1.,  1., -1.],\n",
              "       [ 1.,  1., -1., -1.],\n",
              "       [-1., -1., -1.,  1.]])"
            ]
          },
          "metadata": {
            "tags": []
          },
          "execution_count": 12
        }
      ]
    },
    {
      "cell_type": "code",
      "metadata": {
        "id": "KZ22H_EnIZvX",
        "colab_type": "code",
        "colab": {}
      },
      "source": [
        "match_score=1\n",
        "mismatch_score=-1\n",
        "gap_penalty=-1"
      ],
      "execution_count": 0,
      "outputs": []
    },
    {
      "cell_type": "code",
      "metadata": {
        "id": "-lX40aFtIgiy",
        "colab_type": "code",
        "colab": {}
      },
      "source": [
        "def smith_waterman(matrix):\n",
        "   for i in range(1,len(seq1)+1):\n",
        "       for j in range(1,len(seq2)+1):\n",
        "            value=max(matrix[i-1][j-1]+s_matrix[i-1][j-1],matrix[i-1][j]+gap_penalty,matrix[i][j-1]+gap_penalty)\n",
        "            if value>=0:\n",
        "                matrix[i][j]=value\n",
        "   return(matrix)"
      ],
      "execution_count": 0,
      "outputs": []
    },
    {
      "cell_type": "code",
      "metadata": {
        "id": "mQSXcvFEIiHs",
        "colab_type": "code",
        "outputId": "8f8b5f2d-c95e-4a9c-c575-deab3d771914",
        "colab": {
          "base_uri": "https://localhost:8080/",
          "height": 146
        }
      },
      "source": [
        "smith_waterman(matrix)"
      ],
      "execution_count": 0,
      "outputs": [
        {
          "output_type": "execute_result",
          "data": {
            "text/plain": [
              "array([[0., 0., 0., 0., 0.],\n",
              "       [0., 1., 1., 0., 0.],\n",
              "       [0., 0., 0., 0., 0.],\n",
              "       [0., 1., 1., 0., 0.],\n",
              "       [0., 0., 0., 2., 1.],\n",
              "       [0., 1., 1., 1., 1.],\n",
              "       [0., 0., 0., 0., 2.]])"
            ]
          },
          "metadata": {
            "tags": []
          },
          "execution_count": 15
        }
      ]
    },
    {
      "cell_type": "code",
      "metadata": {
        "id": "jIjJpHyCIj-r",
        "colab_type": "code",
        "outputId": "0003f54e-d838-4db1-b03b-06709288e0e1",
        "colab": {
          "base_uri": "https://localhost:8080/",
          "height": 35
        }
      },
      "source": [
        "m=matrix.shape[0]\n",
        "k=matrix[m-1:m,:]\n",
        "for i in range(k.shape[1]):\n",
        "    if matrix[m-1][i]==np.amax(k):\n",
        "        nl=i\n",
        "nl"
      ],
      "execution_count": 0,
      "outputs": [
        {
          "output_type": "execute_result",
          "data": {
            "text/plain": [
              "4"
            ]
          },
          "metadata": {
            "tags": []
          },
          "execution_count": 16
        }
      ]
    },
    {
      "cell_type": "code",
      "metadata": {
        "id": "atDXwZ9KImWi",
        "colab_type": "code",
        "colab": {}
      },
      "source": [
        "AlignmentA=\"\"\n",
        "AlignmentB=\"\"\n",
        "i=len(seq1)\n",
        "j=nl\n",
        "while(matrix[i,j]!=0 and (i>0 or j>0)):\n",
        "  if (i > 0 and j > 0 and matrix[i][j] == matrix[i-1][j-1] + s_matrix[i-1][j-1]):\n",
        "  \n",
        "    AlignmentA=seq1[i-1] + AlignmentA\n",
        "    AlignmentB=seq2[j-1] + AlignmentB\n",
        "    i=i - 1\n",
        "    j=j - 1\n",
        "\n",
        "  elif (i > 0 and matrix[i][j] == matrix[i-1][j] + gap_penalty):\n",
        "  \n",
        "    AlignmentA=seq1[i-1] + AlignmentA\n",
        "    AlignmentB=\"-\" + AlignmentB\n",
        "    i=i - 1\n",
        "  \n",
        "  else:\n",
        "  \n",
        "    AlignmentA=\"-\" + AlignmentA\n",
        "    AlignmentB=seq2[j-1] + AlignmentB\n",
        "    j=j - 1\n",
        "\n",
        "Alignment = AlignmentA + \" and \" + AlignmentB"
      ],
      "execution_count": 0,
      "outputs": []
    },
    {
      "cell_type": "code",
      "metadata": {
        "id": "UQu1rWRsIyTt",
        "colab_type": "code",
        "outputId": "63fbe4c2-90e6-4ac5-c074-4fb4a5c3a73f",
        "colab": {
          "base_uri": "https://localhost:8080/",
          "height": 35
        }
      },
      "source": [
        "Alignment"
      ],
      "execution_count": 0,
      "outputs": [
        {
          "output_type": "execute_result",
          "data": {
            "text/plain": [
              "'ATAG and AT-G'"
            ]
          },
          "metadata": {
            "tags": []
          },
          "execution_count": 18
        }
      ]
    }
  ]
}