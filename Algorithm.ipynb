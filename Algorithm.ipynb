{
  "nbformat": 4,
  "nbformat_minor": 0,
  "metadata": {
    "colab": {
      "name": "Algorithm.ipynb",
      "provenance": [],
      "collapsed_sections": []
    },
    "kernelspec": {
      "name": "python3",
      "display_name": "Python 3"
    }
  },
  "cells": [
    {
      "cell_type": "markdown",
      "metadata": {
        "id": "CbKeMIhQ2f6R",
        "colab_type": "text"
      },
      "source": [
        "# CSC 464 2.0 Computational Biology - Assignment 1\n",
        "## AS2016461 - T. B. S. M. Paranavithana\n",
        "\n",
        "---\n",
        "\n",
        "\n"
      ]
    },
    {
      "cell_type": "markdown",
      "metadata": {
        "id": "pB41BlhaANL_",
        "colab_type": "text"
      },
      "source": [
        "# **Configuration**"
      ]
    },
    {
      "cell_type": "code",
      "metadata": {
        "id": "5f_o9x6qAKLB",
        "colab_type": "code",
        "colab": {}
      },
      "source": [
        "import numpy as np"
      ],
      "execution_count": 0,
      "outputs": []
    },
    {
      "cell_type": "markdown",
      "metadata": {
        "id": "_wqkn0NX3mwY",
        "colab_type": "text"
      },
      "source": [
        "# **Part 1 -** Needleman-Wunsch algorithm"
      ]
    },
    {
      "cell_type": "code",
      "metadata": {
        "id": "Aj1jgzqu3tAI",
        "colab_type": "code",
        "colab": {}
      },
      "source": [
        "# method to initialize the scoring scheme\n",
        "def scoring(match = 1,mismatch = -1, gap = -1):\n",
        "    # dictionary to hold the penalty values\n",
        "    penalty = {'MATCH': match, 'MISMATCH': mismatch, 'GAP': gap}\n",
        "    return penalty"
      ],
      "execution_count": 0,
      "outputs": []
    },
    {
      "cell_type": "code",
      "metadata": {
        "id": "7bJPXpOsXZnx",
        "colab_type": "code",
        "colab": {}
      },
      "source": [
        "# method to return values for the cases of match or mismatch\n",
        "def match_diag(char1, char2):\n",
        "    if char1 == char2:\n",
        "        return penalty['MATCH']\n",
        "    else:\n",
        "        return penalty['MISMATCH']"
      ],
      "execution_count": 0,
      "outputs": []
    },
    {
      "cell_type": "code",
      "metadata": {
        "id": "imLAO6WZe3i4",
        "colab_type": "code",
        "colab": {}
      },
      "source": [
        "# method to return pointer values accoriding to the maximum value\n",
        "def pointer(d, h, v, max_value):\n",
        "    if max_value == d and max_value == h and max_value == v:\n",
        "        return \"DHV\"\n",
        "    elif max_value == d and max_value == h:\n",
        "        return \"DH\"\n",
        "    elif max_value == d and max_value == v:\n",
        "        return \"DV\"\n",
        "    elif max_value == h and max_value == v:\n",
        "        return \"HV\"\n",
        "    elif max_value == d:\n",
        "        return \"D\"\n",
        "    elif max_value == h:\n",
        "        return \"H\"\n",
        "    else:\n",
        "        return \"V\""
      ],
      "execution_count": 0,
      "outputs": []
    },
    {
      "cell_type": "code",
      "metadata": {
        "id": "GAO2Sb2E0Q9s",
        "colab_type": "code",
        "colab": {}
      },
      "source": [
        "# find best alignments recursively\n",
        "def find_alignments(pointer_needle, i, j, seq1, seq2, alignment1=\"\", alignment2=\"\"):\n",
        "    if i == 0 and j == 0:\n",
        "        print(\"----------------------------------------------------------------------------------------------------\")\n",
        "        print(alignment1)\n",
        "        print(alignment2)\n",
        "    elif pointer_needle[i][j] == \"DHV\":\n",
        "        # Dialgonal\n",
        "        find_alignments(pointer_needle, i-1, j-1, seq1, seq2, alignment1 + seq1[j-1], alignment2 + seq2[i-1])\n",
        "        # Horizontal\n",
        "        find_alignments(pointer_needle, i, j-1, seq1, seq2, alignment1 + seq1[j-1], alignment2 + \"-\")\n",
        "        # Vertical\n",
        "        find_alignments(pointer_needle, i-1, j, seq1, seq2, alignment1 + \"-\", alignment2 + seq2[i-1])\n",
        "    elif pointer_needle[i][j] == \"DH\":\n",
        "        # Dialgonal\n",
        "        find_alignments(pointer_needle, i-1, j-1, seq1, seq2, alignment1 + seq1[j-1], alignment2 + seq2[i-1])\n",
        "        # Horizontal\n",
        "        find_alignments(pointer_needle, i, j-1, seq1, seq2, alignment1 + seq1[j-1], alignment2 + \"-\")\n",
        "    elif pointer_needle[i][j] == \"DV\":\n",
        "        # Dialgonal\n",
        "        find_alignments(pointer_needle, i-1, j-1, seq1, seq2, alignment1 + seq1[j-1], alignment2 + seq2[i-1])\n",
        "        # Vertical\n",
        "        find_alignments(pointer_needle, i-1, j, seq1, seq2, alignment1 + \"-\", alignment2 + seq2[i-1])\n",
        "    elif pointer_needle[i][j] == \"HV\":\n",
        "        # Horizontal\n",
        "        find_alignments(pointer_needle, i, j-1, seq1, seq2, alignment1 + seq1[j-1], alignment2 + \"-\")\n",
        "        # Vertical\n",
        "        find_alignments(pointer_needle, i-1, j, seq1, seq2, alignment1 + \"-\", alignment2 + seq2[i-1])\n",
        "    elif pointer_needle[i][j] == \"D\":\n",
        "        # Dialgonal\n",
        "        find_alignments(pointer_needle, i-1, j-1, seq1, seq2, alignment1 + seq1[j-1], alignment2 + seq2[i-1])\n",
        "    elif pointer_needle[i][j] == \"H\":\n",
        "        # Horizontal\n",
        "        find_alignments(pointer_needle, i, j-1, seq1, seq2, alignment1 + seq1[j-1], alignment2 + \"-\")\n",
        "    elif pointer_needle[i][j] == \"V\":\n",
        "        # Vertical\n",
        "        find_alignments(pointer_needle, i-1, j, seq1, seq2, alignment1 + \"-\", alignment2 + seq2[i-1])\n",
        "        "
      ],
      "execution_count": 0,
      "outputs": []
    },
    {
      "cell_type": "code",
      "metadata": {
        "id": "9rxYlcT4ASz0",
        "colab_type": "code",
        "colab": {}
      },
      "source": [
        "# method to perform the global alignment and print out one or more best alignments\n",
        "def needle(seq1, seq2):\n",
        "    # dimensions of the score and pointer matrices\n",
        "    m = len(seq1) + 1\n",
        "    n = len(seq2) + 1\n",
        "\n",
        "    # initializing the score matrix\n",
        "    score_needle = np.zeros((n,m),dtype = int)\n",
        "\n",
        "    # initializing the pointer matrix\n",
        "    pointer_needle = np.empty((n,m),dtype = 'U3')\n",
        "\n",
        "    # fill the first row with gap penalty\n",
        "    for i in range(m):\n",
        "        score_needle[0][i] = penalty['GAP'] * i\n",
        "        pointer_needle[0][i] = 'H'\n",
        "\n",
        "    # fill the first column with gap penalty\n",
        "    for i in range(n):\n",
        "        score_needle[i][0] = penalty['GAP'] * i\n",
        "        pointer_needle[i][0] = 'V'\n",
        "\n",
        "    # change back the (0,0) element of the pointer matrix back to 0\n",
        "    pointer_needle[0][0] = '0'\n",
        "\n",
        "    # loop through all the elements in the matrix\n",
        "    for i in range(1, n):\n",
        "        for j in range(1, m):\n",
        "            # get the diagonal, horizontal and vertical values according to the penalty\n",
        "            d = score_needle[i-1][j-1] + match_diag(seq1[j-1], seq2[i-1])\n",
        "            h = score_needle[i][j-1] + penalty['GAP']\n",
        "            v = score_needle[i-1][j] + penalty['GAP']\n",
        "            # get the maximum value among d,h, v\n",
        "            max_value = max(d, h, v)\n",
        "            # fill the score matrix with the maximum value\n",
        "            score_needle[i][j] = max_value\n",
        "            # fill the pointer matrix with the relevent pointer\n",
        "            pointer_needle[i][j] = pointer(d, h, v, max_value)\n",
        "    \n",
        "    # find all the best alignments \n",
        "    find_alignments(pointer_needle, n-1, m-1, seq1, seq2)"
      ],
      "execution_count": 0,
      "outputs": []
    },
    {
      "cell_type": "code",
      "metadata": {
        "id": "yqA-GgckCHO2",
        "colab_type": "code",
        "colab": {}
      },
      "source": [
        "# setting up the scoring scheme (default)\n",
        "penalty = scoring()"
      ],
      "execution_count": 0,
      "outputs": []
    },
    {
      "cell_type": "code",
      "metadata": {
        "id": "h-b4UYJ63wiZ",
        "colab_type": "code",
        "colab": {
          "base_uri": "https://localhost:8080/",
          "height": 119
        },
        "outputId": "73896144-f318-41b0-dc8d-04bd5a67d00e"
      },
      "source": [
        "# test case\n",
        "needle('ATTAC', 'AATTC')"
      ],
      "execution_count": 8,
      "outputs": [
        {
          "output_type": "stream",
          "text": [
            "----------------------------------------------------------------------------------------------------\n",
            "CATTA-\n",
            "C-TTAA\n",
            "----------------------------------------------------------------------------------------------------\n",
            "CATT-A\n",
            "C-TTAA\n"
          ],
          "name": "stdout"
        }
      ]
    },
    {
      "cell_type": "markdown",
      "metadata": {
        "id": "wZf83KaN3xTL",
        "colab_type": "text"
      },
      "source": [
        "# **Part 2 -** Smith-Waterman algorithm"
      ]
    }
  ]
}