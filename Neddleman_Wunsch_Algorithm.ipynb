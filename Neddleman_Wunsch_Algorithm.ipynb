{
  "nbformat": 4,
  "nbformat_minor": 0,
  "metadata": {
    "colab": {
      "name": "Neddleman Wunsch Algorithm.ipynb",
      "provenance": [],
      "collapsed_sections": []
    },
    "kernelspec": {
      "name": "python3",
      "display_name": "Python 3"
    }
  },
  "cells": [
    {
      "cell_type": "markdown",
      "metadata": {
        "id": "eI8CVfYTHmqZ",
        "colab_type": "text"
      },
      "source": [
        "## **AS2016525**\n",
        "M.D.C.RUKSHAN SURIYAARATCHIE"
      ]
    },
    {
      "cell_type": "code",
      "metadata": {
        "id": "jcQZX4CdA8hu",
        "colab_type": "code",
        "colab": {}
      },
      "source": [
        "import numpy as np\n",
        "seq1='ATTAC'\n",
        "seq2='AATTC'"
      ],
      "execution_count": 0,
      "outputs": []
    },
    {
      "cell_type": "code",
      "metadata": {
        "id": "HMGdRf6LBHx8",
        "colab_type": "code",
        "colab": {}
      },
      "source": [
        "matrix=np.zeros((len(seq1)+1,len(seq2)+1))"
      ],
      "execution_count": 0,
      "outputs": []
    },
    {
      "cell_type": "code",
      "metadata": {
        "id": "zlAK-EY2BMQr",
        "colab_type": "code",
        "outputId": "13b66915-e342-4ea5-b76d-04ad852ee38c",
        "colab": {
          "base_uri": "https://localhost:8080/",
          "height": 109
        }
      },
      "source": [
        "s_matrix=np.zeros((len(seq1),len(seq2)))\n",
        "for i in range(len(seq1)):\n",
        "    for j in range(len(seq2)):\n",
        "        if seq1[i]==seq2[j]:\n",
        "            s_matrix[i][j]=1\n",
        "        else:     \n",
        "            s_matrix[i][j]=-1\n",
        "s_matrix"
      ],
      "execution_count": 11,
      "outputs": [
        {
          "output_type": "execute_result",
          "data": {
            "text/plain": [
              "array([[ 1.,  1., -1., -1., -1.],\n",
              "       [-1., -1.,  1.,  1., -1.],\n",
              "       [-1., -1.,  1.,  1., -1.],\n",
              "       [ 1.,  1., -1., -1., -1.],\n",
              "       [-1., -1., -1., -1.,  1.]])"
            ]
          },
          "metadata": {
            "tags": []
          },
          "execution_count": 11
        }
      ]
    },
    {
      "cell_type": "code",
      "metadata": {
        "id": "39F-HDdPBRSg",
        "colab_type": "code",
        "colab": {}
      },
      "source": [
        "match=1\n",
        "mismatch=-1\n",
        "gap=-1"
      ],
      "execution_count": 0,
      "outputs": []
    },
    {
      "cell_type": "code",
      "metadata": {
        "id": "D45F8uxEBVl3",
        "colab_type": "code",
        "colab": {}
      },
      "source": [
        "def modified(matrix):\n",
        "   for i in range(1,len(seq1)+1):\n",
        "       for j in range(1,len(seq2)+1):\n",
        "                if (i==len(seq1)):\n",
        "                    matrix[i][j]=max(matrix[i-1][j-1]+s_matrix[i-1][j-1],matrix[i-1][j]+gap,matrix[i][j-1])\n",
        "                elif (j==len(seq2)):\n",
        "                    matrix[i][j]=max(matrix[i-1][j-1]+s_matrix[i-1][j-1],matrix[i-1][j],matrix[i][j-1]+gap)\n",
        "                else:\n",
        "                    matrix[i][j]=max(matrix[i-1][j-1]+s_matrix[i-1][j-1],matrix[i-1][j]+gap,matrix[i][j-1]+gap)\n",
        "   return(matrix)"
      ],
      "execution_count": 0,
      "outputs": []
    },
    {
      "cell_type": "code",
      "metadata": {
        "id": "RhXPNRB8BZdd",
        "colab_type": "code",
        "outputId": "88a21b09-5276-4503-d6ba-8be88122c567",
        "colab": {
          "base_uri": "https://localhost:8080/",
          "height": 127
        }
      },
      "source": [
        "modified(matrix)"
      ],
      "execution_count": 14,
      "outputs": [
        {
          "output_type": "execute_result",
          "data": {
            "text/plain": [
              "array([[ 0.,  0.,  0.,  0.,  0.,  0.],\n",
              "       [ 0.,  1.,  1.,  0., -1.,  0.],\n",
              "       [ 0.,  0.,  0.,  2.,  1.,  0.],\n",
              "       [ 0., -1., -1.,  1.,  3.,  2.],\n",
              "       [ 0.,  1.,  0.,  0.,  2.,  2.],\n",
              "       [ 0.,  0.,  0.,  0.,  1.,  3.]])"
            ]
          },
          "metadata": {
            "tags": []
          },
          "execution_count": 14
        }
      ]
    },
    {
      "cell_type": "code",
      "metadata": {
        "id": "amxJc_gHBb56",
        "colab_type": "code",
        "colab": {}
      },
      "source": [
        "AlignmentA=\"\"\n",
        "AlignmentB=\"\"\n",
        "i=len(seq1)\n",
        "j=len(seq2)\n",
        "while (i >0 or j >0):\n",
        "\n",
        "  if (i > 0 and j > 0 and matrix[i][j] == matrix[i-1][j-1] + s_matrix[i-1][j-1]):\n",
        "  \n",
        "    AlignmentA=seq1[i-1] + AlignmentA\n",
        "    AlignmentB=seq2[j-1] + AlignmentB\n",
        "    i=i - 1\n",
        "    j=j - 1\n",
        "\n",
        "  elif (i > 0 and matrix[i][j] == matrix[i-1][j] + gap):\n",
        "  \n",
        "    AlignmentA=seq1[i-1] + AlignmentA\n",
        "    AlignmentB=\"-\" + AlignmentB\n",
        "    i=i - 1\n",
        "  \n",
        "  else:\n",
        "  \n",
        "    AlignmentA=\"-\" + AlignmentA\n",
        "    AlignmentB=seq2[j-1] + AlignmentB\n",
        "    j=j - 1\n",
        "\n",
        "Alignment = AlignmentA + \" and \" + AlignmentB"
      ],
      "execution_count": 0,
      "outputs": []
    },
    {
      "cell_type": "code",
      "metadata": {
        "id": "7l1z6todEsVD",
        "colab_type": "code",
        "outputId": "31d4185d-e44a-4a7b-fa16-741277c9da03",
        "colab": {
          "base_uri": "https://localhost:8080/",
          "height": 35
        }
      },
      "source": [
        "Alignment"
      ],
      "execution_count": 16,
      "outputs": [
        {
          "output_type": "execute_result",
          "data": {
            "text/plain": [
              "'-ATTAC and AATT-C'"
            ]
          },
          "metadata": {
            "tags": []
          },
          "execution_count": 16
        }
      ]
    }
  ]
}